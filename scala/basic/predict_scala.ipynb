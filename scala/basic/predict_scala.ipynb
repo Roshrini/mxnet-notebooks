{
 "cells": [
  {
   "cell_type": "markdown",
   "metadata": {},
   "source": [
    "# Predict and Extract Features with Pre-trained Models\n",
    "This tutorial will work through how to use pre-trained models for predicting and feature extraction.\n",
    "\n",
    "## Download pre-trained models\n",
    "A model often contains two parts, the .json file specifying the neural network structure, and the .params file containing the binary parameters. The name convention is name-symbol.json and name-epoch.params, where name is the model name, and epoch is the epoch number.\n",
    "\n",
    "Here we download a pre-trained Resnet 50-layer model on Imagenet. Other models are available at http://data.mxnet.io/models/"
   ]
  },
  {
   "cell_type": "markdown",
   "metadata": {},
   "source": [
    "## Jupyter Scala kernel\n",
    "Add mxnet scala jar which is created as a part of MXNet Scala package installation in classpath as follows:\n",
    "\n",
    "**Note**: Process to add this jar in your scala kernel classpath can differ according to the scala kernel you are using.\n",
    "\n",
    "We have used [jupyter-scala kernel](https://github.com/alexarchambault/jupyter-scala) for creating this notebook."
   ]
  },
  {
   "cell_type": "markdown",
   "metadata": {},
   "source": [
    "```\n",
    "classpath.addPath(<path_to_jar>)\n",
    "\n",
    "e.g\n",
    "classpath.addPath(\"mxnet-full_2.11-osx-x86_64-cpu-0.1.2-SNAPSHOT.jar\")\n",
    "```"
   ]
  },
  {
   "cell_type": "code",
   "execution_count": 1,
   "metadata": {
    "collapsed": false
   },
   "outputs": [
    {
     "data": {
      "text/plain": []
     },
     "metadata": {},
     "output_type": "display_data"
    }
   ],
   "source": [
    "classpath.addPath(\"/Users/roshanin/mxnet/scala-package/assembly/osx-x86_64-cpu/target/mxnet-full_2.11-osx-x86_64-cpu-0.1.2-SNAPSHOT.jar\")"
   ]
  },
  {
   "cell_type": "markdown",
   "metadata": {},
   "source": [
    "Import necessary libraries:"
   ]
  },
  {
   "cell_type": "code",
   "execution_count": 2,
   "metadata": {
    "collapsed": false
   },
   "outputs": [
    {
     "data": {
      "text/plain": [
       "\u001b[32mimport \u001b[36mml.dmlc.mxnet._\u001b[0m\n",
       "\u001b[32mimport \u001b[36mml.dmlc.mxnet.module.{FitParams, Module}\u001b[0m\n",
       "\u001b[32mimport \u001b[36mscala.collection.immutable.ListMap\u001b[0m\n",
       "\u001b[32mimport \u001b[36msys.process._\u001b[0m"
      ]
     },
     "metadata": {},
     "output_type": "display_data"
    }
   ],
   "source": [
    "import ml.dmlc.mxnet._\n",
    "import ml.dmlc.mxnet.module.{FitParams, Module}\n",
    "import scala.collection.immutable.ListMap\n",
    "import sys.process._"
   ]
  },
  {
   "cell_type": "markdown",
   "metadata": {},
   "source": [
    "Download ResNet pretrained model as follows:"
   ]
  },
  {
   "cell_type": "code",
   "execution_count": 3,
   "metadata": {
    "collapsed": false,
    "scrolled": true
   },
   "outputs": [
    {
     "name": "stderr",
     "output_type": "stream",
     "text": [
      "\n",
      "     0K .......... .......... .......... .......... .......... 67%  153K 0s\n",
      "    50K .......... .......... ....                            100%  148K=0.5s"
     ]
    },
    {
     "data": {
      "text/plain": [
       "\u001b[36mres2_0\u001b[0m: \u001b[32mInt\u001b[0m = \u001b[32m0\u001b[0m\n",
       "\u001b[36mres2_1\u001b[0m: \u001b[32mInt\u001b[0m = \u001b[32m0\u001b[0m"
      ]
     },
     "metadata": {},
     "output_type": "display_data"
    }
   ],
   "source": [
    "\"wget http://data.mxnet.io/models/imagenet/resnet/50-layers/resnet-50-symbol.json -P model/ -q --show-progress\"!\n",
    "\n",
    "\"wget http://data.mxnet.io/models/imagenet/resnet/50-layers/resnet-50-0000.params -P model/ -q --show-progress\"!"
   ]
  },
  {
   "cell_type": "markdown",
   "metadata": {},
   "source": [
    "## Initialization\n",
    "We first load the model into memory with loadCheckpoint. It returns the symbol (see [symbol_scala.ipynb](https://github.com/dmlc/mxnet-notebooks/blob/master/scala/basic/symbol_scala.ipynb)) definition of the neural network, and parameters."
   ]
  },
  {
   "cell_type": "code",
   "execution_count": 3,
   "metadata": {
    "collapsed": false
   },
   "outputs": [
    {
     "name": "stderr",
     "output_type": "stream",
     "text": [
      "log4j:WARN No appenders could be found for logger (MXNetJVM).\n",
      "log4j:WARN Please initialize the log4j system properly.\n",
      "log4j:WARN See http://logging.apache.org/log4j/1.2/faq.html#noconfig for more info.\n"
     ]
    },
    {
     "data": {
      "text/plain": [
       "\u001b[36mresnet\u001b[0m: \u001b[32mSymbol\u001b[0m = ml.dmlc.mxnet.Symbol@301c1c1\n",
       "\u001b[36margParamsResnet\u001b[0m: \u001b[32mMap\u001b[0m[\u001b[32mString\u001b[0m, \u001b[32mNDArray\u001b[0m] = \u001b[33mMap\u001b[0m(\n",
       "  \u001b[32m\"stage1_unit3_conv3_weight\"\u001b[0m -> ml.dmlc.mxnet.NDArray@89b0a4dc,\n",
       "  \u001b[32m\"stage3_unit2_bn1_gamma\"\u001b[0m -> ml.dmlc.mxnet.NDArray@86c56651,\n",
       "  \u001b[32m\"stage2_unit3_conv2_weight\"\u001b[0m -> ml.dmlc.mxnet.NDArray@a82db0fc,\n",
       "  \u001b[32m\"stage4_unit3_bn1_beta\"\u001b[0m -> ml.dmlc.mxnet.NDArray@7c5beb31,\n",
       "  \u001b[32m\"stage1_unit3_bn1_beta\"\u001b[0m -> ml.dmlc.mxnet.NDArray@a50bbff2,\n",
       "  \u001b[32m\"stage3_unit1_conv3_weight\"\u001b[0m -> ml.dmlc.mxnet.NDArray@cc375d57,\n",
       "  \u001b[32m\"stage2_unit1_bn3_gamma\"\u001b[0m -> ml.dmlc.mxnet.NDArray@a26b6c28,\n",
       "  \u001b[32m\"stage2_unit4_conv3_weight\"\u001b[0m -> ml.dmlc.mxnet.NDArray@bcfcb3fc,\n",
       "  \u001b[32m\"stage2_unit4_bn3_gamma\"\u001b[0m -> ml.dmlc.mxnet.NDArray@c3c51773,\n",
       "  \u001b[32m\"stage3_unit4_bn1_gamma\"\u001b[0m -> ml.dmlc.mxnet.NDArray@49c1a0c1,\n",
       "  \u001b[32m\"stage3_unit6_conv2_weight\"\u001b[0m -> ml.dmlc.mxnet.NDArray@67f8b5ec,\n",
       "  \u001b[32m\"stage2_unit2_bn3_gamma\"\u001b[0m -> ml.dmlc.mxnet.NDArray@f4623b37,\n",
       "  \u001b[32m\"stage3_unit2_bn3_beta\"\u001b[0m -> ml.dmlc.mxnet.NDArray@757458dc,\n",
       "  \u001b[32m\"stage1_unit2_bn2_gamma\"\u001b[0m -> ml.dmlc.mxnet.NDArray@c6a86cd0,\n",
       "  \u001b[32m\"stage4_unit1_conv2_weight\"\u001b[0m -> ml.dmlc.mxnet.NDArray@c2ef8c8a,\n",
       "  \u001b[32m\"stage2_unit2_conv2_weight\"\u001b[0m -> ml.dmlc.mxnet.NDArray@bcc8ff8d,\n",
       "  \u001b[32m\"stage3_unit6_bn2_gamma\"\u001b[0m -> ml.dmlc.mxnet.NDArray@bce67b7e,\n",
       "  \u001b[32m\"stage2_unit2_bn2_beta\"\u001b[0m -> ml.dmlc.mxnet.NDArray@fb7a7812,\n",
       "  \u001b[32m\"stage1_unit2_bn1_gamma\"\u001b[0m -> ml.dmlc.mxnet.NDArray@6f7bfa1e,\n",
       "\u001b[33m...\u001b[0m\n",
       "\u001b[36mauxParamsResnet\u001b[0m: \u001b[32mMap\u001b[0m[\u001b[32mString\u001b[0m, \u001b[32mNDArray\u001b[0m] = \u001b[33mMap\u001b[0m(\n",
       "  \u001b[32m\"stage2_unit2_bn3_moving_mean\"\u001b[0m -> ml.dmlc.mxnet.NDArray@946b22bf,\n",
       "  \u001b[32m\"stage3_unit6_bn2_moving_var\"\u001b[0m -> ml.dmlc.mxnet.NDArray@86a903bb,\n",
       "  \u001b[32m\"stage2_unit2_bn1_moving_mean\"\u001b[0m -> ml.dmlc.mxnet.NDArray@1e3f6190,\n",
       "  \u001b[32m\"stage3_unit1_bn2_moving_var\"\u001b[0m -> ml.dmlc.mxnet.NDArray@63294439,\n",
       "  \u001b[32m\"stage1_unit3_bn1_moving_mean\"\u001b[0m -> ml.dmlc.mxnet.NDArray@96763bc5,\n",
       "  \u001b[32m\"stage2_unit4_bn3_moving_mean\"\u001b[0m -> ml.dmlc.mxnet.NDArray@bab1e037,\n",
       "  \u001b[32m\"stage2_unit4_bn3_moving_var\"\u001b[0m -> ml.dmlc.mxnet.NDArray@c2219e25,\n",
       "  \u001b[32m\"stage3_unit1_bn3_moving_mean\"\u001b[0m -> ml.dmlc.mxnet.NDArray@6dc31d76,\n",
       "  \u001b[32m\"stage2_unit3_bn2_moving_mean\"\u001b[0m -> ml.dmlc.mxnet.NDArray@ed1175d4,\n",
       "  \u001b[32m\"stage2_unit1_bn3_moving_var\"\u001b[0m -> ml.dmlc.mxnet.NDArray@a6a3724b,\n",
       "  \u001b[32m\"stage1_unit2_bn1_moving_var\"\u001b[0m -> ml.dmlc.mxnet.NDArray@6464cb13,\n",
       "  \u001b[32m\"stage4_unit3_bn1_moving_mean\"\u001b[0m -> ml.dmlc.mxnet.NDArray@3790c48a,\n",
       "  \u001b[32m\"stage1_unit2_bn1_moving_mean\"\u001b[0m -> ml.dmlc.mxnet.NDArray@60c14fda,\n",
       "  \u001b[32m\"stage3_unit6_bn3_moving_mean\"\u001b[0m -> ml.dmlc.mxnet.NDArray@7d26d8a7,\n",
       "  \u001b[32m\"stage3_unit5_bn2_moving_mean\"\u001b[0m -> ml.dmlc.mxnet.NDArray@7020beac,\n",
       "  \u001b[32m\"stage2_unit2_bn2_moving_mean\"\u001b[0m -> ml.dmlc.mxnet.NDArray@f05cdd64,\n",
       "  \u001b[32m\"stage2_unit1_bn3_moving_mean\"\u001b[0m -> ml.dmlc.mxnet.NDArray@ebc70586,\n",
       "  \u001b[32m\"stage1_unit1_bn1_moving_mean\"\u001b[0m -> ml.dmlc.mxnet.NDArray@21059403,\n",
       "  \u001b[32m\"stage3_unit3_bn3_moving_var\"\u001b[0m -> ml.dmlc.mxnet.NDArray@c267e9aa,\n",
       "\u001b[33m...\u001b[0m"
      ]
     },
     "metadata": {},
     "output_type": "display_data"
    }
   ],
   "source": [
    "//val mod = Module.loadCheckpoint(\"model/resnet-50\", 0)\n",
    "val (resnet, argParamsResnet, auxParamsResnet) = Model.loadCheckpoint(\"model/resnet-50\", 0)"
   ]
  },
  {
   "cell_type": "markdown",
   "metadata": {},
   "source": [
    "We can visualize the neural network by `Visualization.plotNetwork` and save it by `dot.render` method. Give path where you want to save the visualization as follows: "
   ]
  },
  {
   "cell_type": "code",
   "execution_count": 4,
   "metadata": {
    "collapsed": false
   },
   "outputs": [
    {
     "name": "stderr",
     "output_type": "stream",
     "text": [
      "Warning: node 'bn_data_moving_mean', graph 'plot' size too small for label\n",
      "Warning: node 'bn_data_moving_var', graph 'plot' size too small for label\n",
      "Warning: node 'bn0_moving_mean', graph 'plot' size too small for label\n",
      "Warning: node 'bn0_moving_var', graph 'plot' size too small for label\n",
      "Warning: node 'stage1_unit1_bn1_gamma', graph 'plot' size too small for label\n",
      "Warning: node 'stage1_unit1_bn1_beta', graph 'plot' size too small for label\n",
      "Warning: node 'stage1_unit1_bn1_moving_mean', graph 'plot' size too small for label\n",
      "Warning: node 'stage1_unit1_bn1_moving_var', graph 'plot' size too small for label\n",
      "Warning: node 'stage1_unit1_bn2_gamma', graph 'plot' size too small for label\n",
      "Warning: node 'stage1_unit1_bn2_beta', graph 'plot' size too small for label\n",
      "Warning: node 'stage1_unit1_bn2_moving_mean', graph 'plot' size too small for label\n",
      "Warning: node 'stage1_unit1_bn2_moving_var', graph 'plot' size too small for label\n",
      "Warning: node 'stage1_unit1_bn3_gamma', graph 'plot' size too small for label\n",
      "Warning: node 'stage1_unit1_bn3_beta', graph 'plot' size too small for label\n",
      "Warning: node 'stage1_unit1_bn3_moving_mean', graph 'plot' size too small for label\n",
      "Warning: node 'stage1_unit1_bn3_moving_var', graph 'plot' size too small for label\n",
      "Warning: node 'stage1_unit2_bn1_gamma', graph 'plot' size too small for label\n",
      "Warning: node 'stage1_unit2_bn1_beta', graph 'plot' size too small for label\n",
      "Warning: node 'stage1_unit2_bn1_moving_mean', graph 'plot' size too small for label\n",
      "Warning: node 'stage1_unit2_bn1_moving_var', graph 'plot' size too small for label\n",
      "Warning: node 'stage1_unit2_bn2_gamma', graph 'plot' size too small for label\n",
      "Warning: node 'stage1_unit2_bn2_beta', graph 'plot' size too small for label\n",
      "Warning: node 'stage1_unit2_bn2_moving_mean', graph 'plot' size too small for label\n",
      "Warning: node 'stage1_unit2_bn2_moving_var', graph 'plot' size too small for label\n",
      "Warning: node 'stage1_unit2_bn3_gamma', graph 'plot' size too small for label\n",
      "Warning: node 'stage1_unit2_bn3_beta', graph 'plot' size too small for label\n",
      "Warning: node 'stage1_unit2_bn3_moving_mean', graph 'plot' size too small for label\n",
      "Warning: node 'stage1_unit2_bn3_moving_var', graph 'plot' size too small for label\n",
      "Warning: node 'stage1_unit3_bn1_gamma', graph 'plot' size too small for label\n",
      "Warning: node 'stage1_unit3_bn1_beta', graph 'plot' size too small for label\n",
      "Warning: node 'stage1_unit3_bn1_moving_mean', graph 'plot' size too small for label\n",
      "Warning: node 'stage1_unit3_bn1_moving_var', graph 'plot' size too small for label\n",
      "Warning: node 'stage1_unit3_bn2_gamma', graph 'plot' size too small for label\n",
      "Warning: node 'stage1_unit3_bn2_beta', graph 'plot' size too small for label\n",
      "Warning: node 'stage1_unit3_bn2_moving_mean', graph 'plot' size too small for label\n",
      "Warning: node 'stage1_unit3_bn2_moving_var', graph 'plot' size too small for label\n",
      "Warning: node 'stage1_unit3_bn3_gamma', graph 'plot' size too small for label\n",
      "Warning: node 'stage1_unit3_bn3_beta', graph 'plot' size too small for label\n",
      "Warning: node 'stage1_unit3_bn3_moving_mean', graph 'plot' size too small for label\n",
      "Warning: node 'stage1_unit3_bn3_moving_var', graph 'plot' size too small for label\n",
      "Warning: node 'stage2_unit1_bn1_gamma', graph 'plot' size too small for label\n",
      "Warning: node 'stage2_unit1_bn1_beta', graph 'plot' size too small for label\n",
      "Warning: node 'stage2_unit1_bn1_moving_mean', graph 'plot' size too small for label\n",
      "Warning: node 'stage2_unit1_bn1_moving_var', graph 'plot' size too small for label\n",
      "Warning: node 'stage2_unit1_bn2_gamma', graph 'plot' size too small for label\n",
      "Warning: node 'stage2_unit1_bn2_beta', graph 'plot' size too small for label\n",
      "Warning: node 'stage2_unit1_bn2_moving_mean', graph 'plot' size too small for label\n",
      "Warning: node 'stage2_unit1_bn2_moving_var', graph 'plot' size too small for label\n",
      "Warning: node 'stage2_unit1_bn3_gamma', graph 'plot' size too small for label\n",
      "Warning: node 'stage2_unit1_bn3_beta', graph 'plot' size too small for label\n",
      "Warning: node 'stage2_unit1_bn3_moving_mean', graph 'plot' size too small for label\n",
      "Warning: node 'stage2_unit1_bn3_moving_var', graph 'plot' size too small for label\n",
      "Warning: node 'stage2_unit2_bn1_gamma', graph 'plot' size too small for label\n",
      "Warning: node 'stage2_unit2_bn1_beta', graph 'plot' size too small for label\n",
      "Warning: node 'stage2_unit2_bn1_moving_mean', graph 'plot' size too small for label\n",
      "Warning: node 'stage2_unit2_bn1_moving_var', graph 'plot' size too small for label\n",
      "Warning: node 'stage2_unit2_bn2_gamma', graph 'plot' size too small for label\n",
      "Warning: node 'stage2_unit2_bn2_beta', graph 'plot' size too small for label\n",
      "Warning: node 'stage2_unit2_bn2_moving_mean', graph 'plot' size too small for label\n",
      "Warning: node 'stage2_unit2_bn2_moving_var', graph 'plot' size too small for label\n",
      "Warning: node 'stage2_unit2_bn3_gamma', graph 'plot' size too small for label\n",
      "Warning: node 'stage2_unit2_bn3_beta', graph 'plot' size too small for label\n",
      "Warning: node 'stage2_unit2_bn3_moving_mean', graph 'plot' size too small for label\n",
      "Warning: node 'stage2_unit2_bn3_moving_var', graph 'plot' size too small for label\n",
      "Warning: node 'stage2_unit3_bn1_gamma', graph 'plot' size too small for label\n",
      "Warning: node 'stage2_unit3_bn1_beta', graph 'plot' size too small for label\n",
      "Warning: node 'stage2_unit3_bn1_moving_mean', graph 'plot' size too small for label\n",
      "Warning: node 'stage2_unit3_bn1_moving_var', graph 'plot' size too small for label\n",
      "Warning: node 'stage2_unit3_bn2_gamma', graph 'plot' size too small for label\n",
      "Warning: node 'stage2_unit3_bn2_beta', graph 'plot' size too small for label\n",
      "Warning: node 'stage2_unit3_bn2_moving_mean', graph 'plot' size too small for label\n",
      "Warning: node 'stage2_unit3_bn2_moving_var', graph 'plot' size too small for label\n",
      "Warning: node 'stage2_unit3_bn3_gamma', graph 'plot' size too small for label\n",
      "Warning: node 'stage2_unit3_bn3_beta', graph 'plot' size too small for label\n",
      "Warning: node 'stage2_unit3_bn3_moving_mean', graph 'plot' size too small for label\n",
      "Warning: node 'stage2_unit3_bn3_moving_var', graph 'plot' size too small for label\n",
      "Warning: node 'stage2_unit4_bn1_gamma', graph 'plot' size too small for label\n",
      "Warning: node 'stage2_unit4_bn1_beta', graph 'plot' size too small for label\n",
      "Warning: node 'stage2_unit4_bn1_moving_mean', graph 'plot' size too small for label\n",
      "Warning: node 'stage2_unit4_bn1_moving_var', graph 'plot' size too small for label\n",
      "Warning: node 'stage2_unit4_bn2_gamma', graph 'plot' size too small for label\n",
      "Warning: node 'stage2_unit4_bn2_beta', graph 'plot' size too small for label\n",
      "Warning: node 'stage2_unit4_bn2_moving_mean', graph 'plot' size too small for label\n",
      "Warning: node 'stage2_unit4_bn2_moving_var', graph 'plot' size too small for label\n",
      "Warning: node 'stage2_unit4_bn3_gamma', graph 'plot' size too small for label\n",
      "Warning: node 'stage2_unit4_bn3_beta', graph 'plot' size too small for label\n",
      "Warning: node 'stage2_unit4_bn3_moving_mean', graph 'plot' size too small for label\n",
      "Warning: node 'stage2_unit4_bn3_moving_var', graph 'plot' size too small for label\n",
      "Warning: node 'stage3_unit1_bn1_gamma', graph 'plot' size too small for label\n",
      "Warning: node 'stage3_unit1_bn1_beta', graph 'plot' size too small for label\n",
      "Warning: node 'stage3_unit1_bn1_moving_mean', graph 'plot' size too small for label\n",
      "Warning: node 'stage3_unit1_bn1_moving_var', graph 'plot' size too small for label\n",
      "Warning: node 'stage3_unit1_bn2_gamma', graph 'plot' size too small for label\n",
      "Warning: node 'stage3_unit1_bn2_beta', graph 'plot' size too small for label\n",
      "Warning: node 'stage3_unit1_bn2_moving_mean', graph 'plot' size too small for label\n",
      "Warning: node 'stage3_unit1_bn2_moving_var', graph 'plot' size too small for label\n",
      "Warning: node 'stage3_unit1_bn3_gamma', graph 'plot' size too small for label\n",
      "Warning: node 'stage3_unit1_bn3_beta', graph 'plot' size too small for label\n",
      "Warning: node 'stage3_unit1_bn3_moving_mean', graph 'plot' size too small for label\n",
      "Warning: node 'stage3_unit1_bn3_moving_var', graph 'plot' size too small for label\n",
      "Warning: node 'stage3_unit2_bn1_gamma', graph 'plot' size too small for label\n",
      "Warning: node 'stage3_unit2_bn1_beta', graph 'plot' size too small for label\n",
      "Warning: node 'stage3_unit2_bn1_moving_mean', graph 'plot' size too small for label\n",
      "Warning: node 'stage3_unit2_bn1_moving_var', graph 'plot' size too small for label\n",
      "Warning: node 'stage3_unit2_bn2_gamma', graph 'plot' size too small for label\n",
      "Warning: node 'stage3_unit2_bn2_beta', graph 'plot' size too small for label\n",
      "Warning: node 'stage3_unit2_bn2_moving_mean', graph 'plot' size too small for label\n",
      "Warning: node 'stage3_unit2_bn2_moving_var', graph 'plot' size too small for label\n",
      "Warning: node 'stage3_unit2_bn3_gamma', graph 'plot' size too small for label\n",
      "Warning: node 'stage3_unit2_bn3_beta', graph 'plot' size too small for label\n",
      "Warning: node 'stage3_unit2_bn3_moving_mean', graph 'plot' size too small for label\n",
      "Warning: node 'stage3_unit2_bn3_moving_var', graph 'plot' size too small for label\n",
      "Warning: node 'stage3_unit3_bn1_gamma', graph 'plot' size too small for label\n",
      "Warning: node 'stage3_unit3_bn1_beta', graph 'plot' size too small for label\n",
      "Warning: node 'stage3_unit3_bn1_moving_mean', graph 'plot' size too small for label\n",
      "Warning: node 'stage3_unit3_bn1_moving_var', graph 'plot' size too small for label\n",
      "Warning: node 'stage3_unit3_bn2_gamma', graph 'plot' size too small for label\n",
      "Warning: node 'stage3_unit3_bn2_beta', graph 'plot' size too small for label\n",
      "Warning: node 'stage3_unit3_bn2_moving_mean', graph 'plot' size too small for label\n",
      "Warning: node 'stage3_unit3_bn2_moving_var', graph 'plot' size too small for label\n",
      "Warning: node 'stage3_unit3_bn3_gamma', graph 'plot' size too small for label\n",
      "Warning: node 'stage3_unit3_bn3_beta', graph 'plot' size too small for label\n",
      "Warning: node 'stage3_unit3_bn3_moving_mean', graph 'plot' size too small for label\n",
      "Warning: node 'stage3_unit3_bn3_moving_var', graph 'plot' size too small for label\n",
      "Warning: node 'stage3_unit4_bn1_gamma', graph 'plot' size too small for label\n",
      "Warning: node 'stage3_unit4_bn1_beta', graph 'plot' size too small for label\n",
      "Warning: node 'stage3_unit4_bn1_moving_mean', graph 'plot' size too small for label\n",
      "Warning: node 'stage3_unit4_bn1_moving_var', graph 'plot' size too small for label\n",
      "Warning: node 'stage3_unit4_bn2_gamma', graph 'plot' size too small for label\n",
      "Warning: node 'stage3_unit4_bn2_beta', graph 'plot' size too small for label\n",
      "Warning: node 'stage3_unit4_bn2_moving_mean', graph 'plot' size too small for label\n",
      "Warning: node 'stage3_unit4_bn2_moving_var', graph 'plot' size too small for label\n",
      "Warning: node 'stage3_unit4_bn3_gamma', graph 'plot' size too small for label\n",
      "Warning: node 'stage3_unit4_bn3_beta', graph 'plot' size too small for label\n",
      "Warning: node 'stage3_unit4_bn3_moving_mean', graph 'plot' size too small for label\n",
      "Warning: node 'stage3_unit4_bn3_moving_var', graph 'plot' size too small for label\n",
      "Warning: node 'stage3_unit5_bn1_gamma', graph 'plot' size too small for label\n",
      "Warning: node 'stage3_unit5_bn1_beta', graph 'plot' size too small for label\n",
      "Warning: node 'stage3_unit5_bn1_moving_mean', graph 'plot' size too small for label\n",
      "Warning: node 'stage3_unit5_bn1_moving_var', graph 'plot' size too small for label\n",
      "Warning: node 'stage3_unit5_bn2_gamma', graph 'plot' size too small for label\n",
      "Warning: node 'stage3_unit5_bn2_beta', graph 'plot' size too small for label\n",
      "Warning: node 'stage3_unit5_bn2_moving_mean', graph 'plot' size too small for label\n",
      "Warning: node 'stage3_unit5_bn2_moving_var', graph 'plot' size too small for label\n",
      "Warning: node 'stage3_unit5_bn3_gamma', graph 'plot' size too small for label\n",
      "Warning: node 'stage3_unit5_bn3_beta', graph 'plot' size too small for label\n",
      "Warning: node 'stage3_unit5_bn3_moving_mean', graph 'plot' size too small for label\n",
      "Warning: node 'stage3_unit5_bn3_moving_var', graph 'plot' size too small for label\n",
      "Warning: node 'stage3_unit6_bn1_gamma', graph 'plot' size too small for label\n",
      "Warning: node 'stage3_unit6_bn1_beta', graph 'plot' size too small for label\n",
      "Warning: node 'stage3_unit6_bn1_moving_mean', graph 'plot' size too small for label\n",
      "Warning: node 'stage3_unit6_bn1_moving_var', graph 'plot' size too small for label\n",
      "Warning: node 'stage3_unit6_bn2_gamma', graph 'plot' size too small for label\n",
      "Warning: node 'stage3_unit6_bn2_beta', graph 'plot' size too small for label\n",
      "Warning: node 'stage3_unit6_bn2_moving_mean', graph 'plot' size too small for label\n",
      "Warning: node 'stage3_unit6_bn2_moving_var', graph 'plot' size too small for label\n",
      "Warning: node 'stage3_unit6_bn3_gamma', graph 'plot' size too small for label\n",
      "Warning: node 'stage3_unit6_bn3_beta', graph 'plot' size too small for label\n",
      "Warning: node 'stage3_unit6_bn3_moving_mean', graph 'plot' size too small for label\n",
      "Warning: node 'stage3_unit6_bn3_moving_var', graph 'plot' size too small for label\n",
      "Warning: node 'stage4_unit1_bn1_gamma', graph 'plot' size too small for label\n",
      "Warning: node 'stage4_unit1_bn1_beta', graph 'plot' size too small for label\n",
      "Warning: node 'stage4_unit1_bn1_moving_mean', graph 'plot' size too small for label\n",
      "Warning: node 'stage4_unit1_bn1_moving_var', graph 'plot' size too small for label\n",
      "Warning: node 'stage4_unit1_bn2_gamma', graph 'plot' size too small for label\n",
      "Warning: node 'stage4_unit1_bn2_beta', graph 'plot' size too small for label\n",
      "Warning: node 'stage4_unit1_bn2_moving_mean', graph 'plot' size too small for label\n",
      "Warning: node 'stage4_unit1_bn2_moving_var', graph 'plot' size too small for label\n",
      "Warning: node 'stage4_unit1_bn3_gamma', graph 'plot' size too small for label\n",
      "Warning: node 'stage4_unit1_bn3_beta', graph 'plot' size too small for label\n",
      "Warning: node 'stage4_unit1_bn3_moving_mean', graph 'plot' size too small for label\n",
      "Warning: node 'stage4_unit1_bn3_moving_var', graph 'plot' size too small for label\n",
      "Warning: node 'stage4_unit2_bn1_gamma', graph 'plot' size too small for label\n",
      "Warning: node 'stage4_unit2_bn1_beta', graph 'plot' size too small for label\n",
      "Warning: node 'stage4_unit2_bn1_moving_mean', graph 'plot' size too small for label\n",
      "Warning: node 'stage4_unit2_bn1_moving_var', graph 'plot' size too small for label\n",
      "Warning: node 'stage4_unit2_bn2_gamma', graph 'plot' size too small for label\n",
      "Warning: node 'stage4_unit2_bn2_beta', graph 'plot' size too small for label\n",
      "Warning: node 'stage4_unit2_bn2_moving_mean', graph 'plot' size too small for label\n",
      "Warning: node 'stage4_unit2_bn2_moving_var', graph 'plot' size too small for label\n",
      "Warning: node 'stage4_unit2_bn3_gamma', graph 'plot' size too small for label\n",
      "Warning: node 'stage4_unit2_bn3_beta', graph 'plot' size too small for label\n",
      "Warning: node 'stage4_unit2_bn3_moving_mean', graph 'plot' size too small for label\n",
      "Warning: node 'stage4_unit2_bn3_moving_var', graph 'plot' size too small for label\n",
      "Warning: node 'stage4_unit3_bn1_gamma', graph 'plot' size too small for label\n",
      "Warning: node 'stage4_unit3_bn1_beta', graph 'plot' size too small for label\n",
      "Warning: node 'stage4_unit3_bn1_moving_mean', graph 'plot' size too small for label\n",
      "Warning: node 'stage4_unit3_bn1_moving_var', graph 'plot' size too small for label\n",
      "Warning: node 'stage4_unit3_bn2_gamma', graph 'plot' size too small for label\n",
      "Warning: node 'stage4_unit3_bn2_beta', graph 'plot' size too small for label\n",
      "Warning: node 'stage4_unit3_bn2_moving_mean', graph 'plot' size too small for label\n",
      "Warning: node 'stage4_unit3_bn2_moving_var', graph 'plot' size too small for label\n",
      "Warning: node 'stage4_unit3_bn3_gamma', graph 'plot' size too small for label\n",
      "Warning: node 'stage4_unit3_bn3_beta', graph 'plot' size too small for label\n",
      "Warning: node 'stage4_unit3_bn3_moving_mean', graph 'plot' size too small for label\n",
      "Warning: node 'stage4_unit3_bn3_moving_var', graph 'plot' size too small for label\n",
      "Warning: node 'bn1_moving_mean', graph 'plot' size too small for label\n",
      "Warning: node 'bn1_moving_var', graph 'plot' size too small for label\n"
     ]
    },
    {
     "data": {
      "text/plain": [
       "\u001b[36mdot\u001b[0m: \u001b[32mVisualization\u001b[0m.\u001b[32mDot\u001b[0m = ml.dmlc.mxnet.Visualization$Dot@3154bd24"
      ]
     },
     "metadata": {},
     "output_type": "display_data"
    }
   ],
   "source": [
    "val dot = Visualization.plotNetwork(symbol = resnet)\n",
    "dot.render(engine = \"dot\", fileName = \"resnet\", path = \"model/\")"
   ]
  },
  {
   "cell_type": "markdown",
   "metadata": {},
   "source": [
    "Both argument parameters and auxiliary parameters (e.g mean/std in batch normalization layer) are stored as a dictionary of string name and ndarray value (see [ndarray_scala.ipynb](https://github.com/dmlc/mxnet-notebooks/blob/master/scala/basic/ndarray_scala.ipynb). The arguments contain consist of weight and bias.\n",
    "\n",
    "You can see full output by `println` command"
   ]
  },
  {
   "cell_type": "code",
   "execution_count": 5,
   "metadata": {
    "collapsed": false
   },
   "outputs": [
    {
     "data": {
      "text/plain": [
       "\u001b[36mres4\u001b[0m: \u001b[32mMap\u001b[0m[\u001b[32mString\u001b[0m, \u001b[32mNDArray\u001b[0m] = \u001b[33mMap\u001b[0m(\n",
       "  \u001b[32m\"stage1_unit3_conv3_weight\"\u001b[0m -> ml.dmlc.mxnet.NDArray@9a4b8176,\n",
       "  \u001b[32m\"stage3_unit2_bn1_gamma\"\u001b[0m -> ml.dmlc.mxnet.NDArray@6abf1f48,\n",
       "  \u001b[32m\"stage2_unit3_conv2_weight\"\u001b[0m -> ml.dmlc.mxnet.NDArray@9df221ba,\n",
       "  \u001b[32m\"stage4_unit3_bn1_beta\"\u001b[0m -> ml.dmlc.mxnet.NDArray@75d224a8,\n",
       "  \u001b[32m\"stage1_unit3_bn1_beta\"\u001b[0m -> ml.dmlc.mxnet.NDArray@640dd0ce,\n",
       "  \u001b[32m\"stage3_unit1_conv3_weight\"\u001b[0m -> ml.dmlc.mxnet.NDArray@abdd2283,\n",
       "  \u001b[32m\"stage2_unit1_bn3_gamma\"\u001b[0m -> ml.dmlc.mxnet.NDArray@b816e9c2,\n",
       "  \u001b[32m\"stage2_unit4_conv3_weight\"\u001b[0m -> ml.dmlc.mxnet.NDArray@7a388895,\n",
       "  \u001b[32m\"stage2_unit4_bn3_gamma\"\u001b[0m -> ml.dmlc.mxnet.NDArray@f6083d12,\n",
       "  \u001b[32m\"stage3_unit4_bn1_gamma\"\u001b[0m -> ml.dmlc.mxnet.NDArray@abfbce39,\n",
       "  \u001b[32m\"stage3_unit6_conv2_weight\"\u001b[0m -> ml.dmlc.mxnet.NDArray@52b0e4a3,\n",
       "  \u001b[32m\"stage2_unit2_bn3_gamma\"\u001b[0m -> ml.dmlc.mxnet.NDArray@fce672e1,\n",
       "  \u001b[32m\"stage3_unit2_bn3_beta\"\u001b[0m -> ml.dmlc.mxnet.NDArray@77fe9b1f,\n",
       "  \u001b[32m\"stage1_unit2_bn2_gamma\"\u001b[0m -> ml.dmlc.mxnet.NDArray@d9e38fd9,\n",
       "  \u001b[32m\"stage4_unit1_conv2_weight\"\u001b[0m -> ml.dmlc.mxnet.NDArray@9ed3362a,\n",
       "  \u001b[32m\"stage2_unit2_conv2_weight\"\u001b[0m -> ml.dmlc.mxnet.NDArray@b17c306f,\n",
       "  \u001b[32m\"stage3_unit6_bn2_gamma\"\u001b[0m -> ml.dmlc.mxnet.NDArray@5ff9b8cb,\n",
       "  \u001b[32m\"stage2_unit2_bn2_beta\"\u001b[0m -> ml.dmlc.mxnet.NDArray@c3f656a6,\n",
       "  \u001b[32m\"stage1_unit2_bn1_gamma\"\u001b[0m -> ml.dmlc.mxnet.NDArray@af1280a8,\n",
       "\u001b[33m...\u001b[0m"
      ]
     },
     "metadata": {},
     "output_type": "display_data"
    }
   ],
   "source": [
    "argParamsResnet"
   ]
  },
  {
   "cell_type": "markdown",
   "metadata": {},
   "source": [
    "while auxiliaries contains the the mean and std for the batch normalization layers."
   ]
  },
  {
   "cell_type": "code",
   "execution_count": 6,
   "metadata": {
    "collapsed": false
   },
   "outputs": [
    {
     "data": {
      "text/plain": [
       "\u001b[36mres5\u001b[0m: \u001b[32mMap\u001b[0m[\u001b[32mString\u001b[0m, \u001b[32mNDArray\u001b[0m] = \u001b[33mMap\u001b[0m(\n",
       "  \u001b[32m\"stage2_unit2_bn3_moving_mean\"\u001b[0m -> ml.dmlc.mxnet.NDArray@aa539dcc,\n",
       "  \u001b[32m\"stage3_unit6_bn2_moving_var\"\u001b[0m -> ml.dmlc.mxnet.NDArray@6e85d8da,\n",
       "  \u001b[32m\"stage2_unit2_bn1_moving_mean\"\u001b[0m -> ml.dmlc.mxnet.NDArray@fdc34046,\n",
       "  \u001b[32m\"stage3_unit1_bn2_moving_var\"\u001b[0m -> ml.dmlc.mxnet.NDArray@8cbb07ea,\n",
       "  \u001b[32m\"stage1_unit3_bn1_moving_mean\"\u001b[0m -> ml.dmlc.mxnet.NDArray@673a1594,\n",
       "  \u001b[32m\"stage2_unit4_bn3_moving_mean\"\u001b[0m -> ml.dmlc.mxnet.NDArray@a2bb7ded,\n",
       "  \u001b[32m\"stage2_unit4_bn3_moving_var\"\u001b[0m -> ml.dmlc.mxnet.NDArray@dacdc026,\n",
       "  \u001b[32m\"stage3_unit1_bn3_moving_mean\"\u001b[0m -> ml.dmlc.mxnet.NDArray@8cbcc0cc,\n",
       "  \u001b[32m\"stage2_unit3_bn2_moving_mean\"\u001b[0m -> ml.dmlc.mxnet.NDArray@fe5da542,\n",
       "  \u001b[32m\"stage2_unit1_bn3_moving_var\"\u001b[0m -> ml.dmlc.mxnet.NDArray@9a7dfe4b,\n",
       "  \u001b[32m\"stage1_unit2_bn1_moving_var\"\u001b[0m -> ml.dmlc.mxnet.NDArray@698017c1,\n",
       "  \u001b[32m\"stage4_unit3_bn1_moving_mean\"\u001b[0m -> ml.dmlc.mxnet.NDArray@6ea56feb,\n",
       "  \u001b[32m\"stage1_unit2_bn1_moving_mean\"\u001b[0m -> ml.dmlc.mxnet.NDArray@b32bb14c,\n",
       "  \u001b[32m\"stage3_unit6_bn3_moving_mean\"\u001b[0m -> ml.dmlc.mxnet.NDArray@733075d0,\n",
       "  \u001b[32m\"stage3_unit5_bn2_moving_mean\"\u001b[0m -> ml.dmlc.mxnet.NDArray@8a9da512,\n",
       "  \u001b[32m\"stage2_unit2_bn2_moving_mean\"\u001b[0m -> ml.dmlc.mxnet.NDArray@fad6d5c4,\n",
       "  \u001b[32m\"stage2_unit1_bn3_moving_mean\"\u001b[0m -> ml.dmlc.mxnet.NDArray@c8e406da,\n",
       "  \u001b[32m\"stage1_unit1_bn1_moving_mean\"\u001b[0m -> ml.dmlc.mxnet.NDArray@f25cd69,\n",
       "  \u001b[32m\"stage3_unit3_bn3_moving_var\"\u001b[0m -> ml.dmlc.mxnet.NDArray@8bac6514,\n",
       "\u001b[33m...\u001b[0m"
      ]
     },
     "metadata": {},
     "output_type": "display_data"
    }
   ],
   "source": [
    "auxParamsResnet"
   ]
  },
  {
   "cell_type": "markdown",
   "metadata": {},
   "source": [
    "Next we create an executable module (see [module_scala.ipynb](https://github.com/dmlc/mxnet-notebooks/blob/master/scala/basic/module_scala.ipynb)) on GPU 0. To use a difference device, we just need to change the context, e.g. Context.cpu(0) for CPU and Context.gpu(2) for the 3rd GPU."
   ]
  },
  {
   "cell_type": "code",
   "execution_count": 6,
   "metadata": {
    "collapsed": false
   },
   "outputs": [
    {
     "data": {
      "text/plain": [
       "\u001b[36mmod\u001b[0m: \u001b[32mModule\u001b[0m = ml.dmlc.mxnet.module.Module@56ca816d"
      ]
     },
     "metadata": {},
     "output_type": "display_data"
    }
   ],
   "source": [
    "val mod = new Module(resnet, contexts = Context.cpu())"
   ]
  },
  {
   "cell_type": "markdown",
   "metadata": {},
   "source": [
    "The ResNet is trained with RGB images of size 224 x 224. The training data is feed by the variable data. We bind the module with the input shape and specify that it is only for predicting. The number 1 added before the image shape (3x224x224) means that we will only predict one image each time. Next we set the loaded parameters. Now the module is ready to run."
   ]
  },
  {
   "cell_type": "code",
   "execution_count": 5,
   "metadata": {
    "collapsed": false,
    "scrolled": true
   },
   "outputs": [
    {
     "ename": "",
     "evalue": "",
     "output_type": "error",
     "traceback": [
      "java.lang.NullPointerException",
      "  ml.dmlc.mxnet.module.DataParallelExecutorGroup.ml$dmlc$mxnet$module$DataParallelExecutorGroup$$bindIthExec(DataParallelExecutorGroup.scala:641)",
      "  ml.dmlc.mxnet.module.DataParallelExecutorGroup$$anonfun$bindExec$1.apply(DataParallelExecutorGroup.scala:354)",
      "  ml.dmlc.mxnet.module.DataParallelExecutorGroup$$anonfun$bindExec$1.apply(DataParallelExecutorGroup.scala:353)",
      "  scala.collection.TraversableLike$$anonfun$map$1.apply(TraversableLike.scala:234)",
      "  scala.collection.TraversableLike$$anonfun$map$1.apply(TraversableLike.scala:234)",
      "  scala.collection.immutable.Range.foreach(Range.scala:160)",
      "  scala.collection.TraversableLike$class.map(TraversableLike.scala:234)",
      "  scala.collection.AbstractTraversable.map(Traversable.scala:104)",
      "  ml.dmlc.mxnet.module.DataParallelExecutorGroup.bindExec(DataParallelExecutorGroup.scala:353)",
      "  ml.dmlc.mxnet.module.DataParallelExecutorGroup.<init>(DataParallelExecutorGroup.scala:315)",
      "  ml.dmlc.mxnet.module.DataParallelExecutorGroup$Builder.build(DataParallelExecutorGroup.scala:223)",
      "  ml.dmlc.mxnet.module.Module.bind(Module.scala:243)",
      "  cmd4$$user$$anonfun$1.apply$mcV$sp(Main.scala:38)"
     ]
    }
   ],
   "source": [
    "val dataShapesResnet = ListMap(\"data\" -> Shape(1, 3, 224, 224))\n",
    "mod.bind(dataShapes=dataShapesResnet, forTraining = false)\n",
    "//mod.setParams(argParams, auxParams)"
   ]
  },
  {
   "cell_type": "code",
   "execution_count": 16,
   "metadata": {
    "collapsed": false
   },
   "outputs": [
    {
     "data": {
      "text/plain": [
       "\u001b[36mres15_0\u001b[0m: \u001b[32mIndexedSeq\u001b[0m[\u001b[32mDataDesc\u001b[0m] = \u001b[33mVector\u001b[0m(DataDesc[data,(1,3,224,224),Float32,NCHW])\n",
       "\u001b[36mres15_1\u001b[0m: \u001b[32mIndexedSeq\u001b[0m[\u001b[32mString\u001b[0m] = \u001b[33mVector\u001b[0m(\u001b[32m\"data\"\u001b[0m)"
      ]
     },
     "metadata": {},
     "output_type": "display_data"
    }
   ],
   "source": [
    "mod.dataShapes\n",
    "mod.dataNames\n",
    "//argParams"
   ]
  },
  {
   "cell_type": "code",
   "execution_count": 17,
   "metadata": {
    "collapsed": false
   },
   "outputs": [
    {
     "ename": "",
     "evalue": "",
     "output_type": "error",
     "traceback": [
      "java.lang.NullPointerException",
      "  ml.dmlc.mxnet.module.Module.initParams(Module.scala:122)",
      "  ml.dmlc.mxnet.module.BaseModule.setParams(BaseModule.scala:303)",
      "  cmd16$$user$$anonfun$1.apply$mcV$sp(Main.scala:47)"
     ]
    }
   ],
   "source": [
    "mod.setParams(argParamsResnet, auxParamsResnet)"
   ]
  },
  {
   "cell_type": "code",
   "execution_count": null,
   "metadata": {
    "collapsed": true
   },
   "outputs": [],
   "source": []
  }
 ],
 "metadata": {
  "anaconda-cloud": {},
  "kernelspec": {
   "display_name": "Scala 2.11",
   "language": "scala211",
   "name": "scala211"
  },
  "language_info": {
   "codemirror_mode": "text/x-scala",
   "file_extension": ".scala",
   "mimetype": "text/x-scala",
   "name": "scala211",
   "pygments_lexer": "scala",
   "version": "2.11.8"
  }
 },
 "nbformat": 4,
 "nbformat_minor": 0
}
